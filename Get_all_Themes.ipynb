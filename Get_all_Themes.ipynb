{
 "cells": [
  {
   "cell_type": "code",
   "execution_count": 2,
   "id": "f3d4826d-5ccf-498e-a126-b11552f04c5e",
   "metadata": {},
   "outputs": [],
   "source": [
    "import pandas as pd\n",
    "import matplotlib.pyplot as plt\n",
    "import seaborn as sns\n",
    "import numpy as np\n",
    "\n",
    "path = '/home/jln436/Internship_AUMC/'"
   ]
  },
  {
   "cell_type": "code",
   "execution_count": 3,
   "id": "8f1a9c97-849a-4421-b867-19b18034d553",
   "metadata": {},
   "outputs": [],
   "source": [
    "shared_features = pd.read_csv(path + 'output/Importances/shared_importances_themes.csv')\n",
    "shared_features_nc = pd.read_csv(path + 'output/Importances/shared_importances_no_cog_tests_themes.csv')"
   ]
  },
  {
   "cell_type": "code",
   "execution_count": 4,
   "id": "69c6936e-ac8b-444f-94a6-a9245f254fad",
   "metadata": {},
   "outputs": [],
   "source": [
    "shared_features.drop(columns = ['lgmb','rf','lasso','ridge','svm','file'], inplace = True)\n",
    "shared_features_nc.drop(columns = ['lgmb','rf','lasso','ridge','svm','file'], inplace = True)"
   ]
  },
  {
   "cell_type": "code",
   "execution_count": 5,
   "id": "a3fed7eb-46cc-4b3c-86c8-2ff960c5a318",
   "metadata": {},
   "outputs": [],
   "source": [
    "frames = [shared_features, shared_features_nc]\n",
    "shared_total = pd.concat(frames)"
   ]
  },
  {
   "cell_type": "code",
   "execution_count": 6,
   "id": "4d066e4a-30a3-4215-a719-bda2138d2f98",
   "metadata": {},
   "outputs": [],
   "source": [
    "shared_total = shared_total.drop_duplicates()"
   ]
  },
  {
   "cell_type": "code",
   "execution_count": 7,
   "id": "f06b7625-f3fe-4c11-9df4-4034f0f1773a",
   "metadata": {},
   "outputs": [],
   "source": [
    "# read in B_df1_final to get all feature names\n",
    "B_df1_final = pd.read_csv(path + 'output/dfs/B_df1_imputed.csv')"
   ]
  },
  {
   "cell_type": "code",
   "execution_count": 8,
   "id": "2589536a-c5b8-4410-8e1a-223c1bf16728",
   "metadata": {},
   "outputs": [],
   "source": [
    "tmp = pd.DataFrame(data = B_df1_final.columns, columns = ['feature_name'])\n",
    "tmp['Theme'] = ''"
   ]
  },
  {
   "cell_type": "code",
   "execution_count": 9,
   "id": "af0d36b0-8549-464e-8b85-200577461c7b",
   "metadata": {},
   "outputs": [],
   "source": [
    "frames2 = [shared_total, tmp]\n",
    "shared_total_f = pd.concat(frames2)"
   ]
  },
  {
   "cell_type": "code",
   "execution_count": 10,
   "id": "c13798d9-5763-47ea-9ce2-c108e0f0a384",
   "metadata": {},
   "outputs": [],
   "source": [
    "shared_total_f = shared_total_f.drop_duplicates(subset=[\"feature_name\"], keep='first')"
   ]
  },
  {
   "cell_type": "code",
   "execution_count": 11,
   "id": "3e922dbc-03ec-4fb3-acd4-ffc2615addac",
   "metadata": {},
   "outputs": [],
   "source": [
    "shared_total_f.sort_values('feature_name', inplace = True)"
   ]
  },
  {
   "cell_type": "code",
   "execution_count": 12,
   "id": "1776b694-2b99-46c6-8ecc-96ef6200637c",
   "metadata": {},
   "outputs": [],
   "source": [
    "# shared_total_f.to_csv(path + 'output/Importances/feature_themes.csv', index = False)\n",
    "# Then fill out manually before reading back in for quick analysis"
   ]
  },
  {
   "cell_type": "code",
   "execution_count": 13,
   "id": "2a40ce52-2e50-49b5-8471-3eb21ef7ce02",
   "metadata": {},
   "outputs": [],
   "source": [
    "shared_total_f = pd.read_csv(path + 'output/Importances/feature_themes.csv')"
   ]
  },
  {
   "cell_type": "markdown",
   "id": "9fcb3ece-7019-4c61-84ac-a302c36b87f0",
   "metadata": {},
   "source": [
    "## Get percentages for each themes"
   ]
  },
  {
   "cell_type": "code",
   "execution_count": 14,
   "id": "66097dda-0e69-4f65-9361-5309cd34feea",
   "metadata": {},
   "outputs": [
    {
     "data": {
      "text/plain": [
       "Physical        291\n",
       "Emotional        77\n",
       "Social           70\n",
       "Care             40\n",
       "Demographics     29\n",
       "Cognitive        26\n",
       "Work              7\n",
       "Biomaterial       6\n",
       "Name: Theme, dtype: int64"
      ]
     },
     "execution_count": 14,
     "metadata": {},
     "output_type": "execute_result"
    }
   ],
   "source": [
    "shared_total_f.Theme.value_counts()"
   ]
  },
  {
   "cell_type": "code",
   "execution_count": 15,
   "id": "c0c2ff8d-ed7d-4d3b-97bf-d8fd4c1969aa",
   "metadata": {},
   "outputs": [
    {
     "data": {
      "text/plain": [
       "Physical        111\n",
       "Social           38\n",
       "Emotional        38\n",
       "Demographics     15\n",
       "Care              9\n",
       "Work              4\n",
       "Cognitive         1\n",
       "Biomaterial       1\n",
       "Name: Theme, dtype: int64"
      ]
     },
     "execution_count": 15,
     "metadata": {},
     "output_type": "execute_result"
    }
   ],
   "source": [
    "shared_features_nc.Theme.value_counts()"
   ]
  },
  {
   "cell_type": "code",
   "execution_count": 16,
   "id": "d3a29af4-6d81-4f6b-b4c8-407a7411a197",
   "metadata": {},
   "outputs": [
    {
     "data": {
      "text/plain": [
       "Biomaterial     0.166667\n",
       "Care            0.100000\n",
       "Cognitive       0.653846\n",
       "Demographics    0.310345\n",
       "Emotional       0.181818\n",
       "Physical        0.226804\n",
       "Social          0.214286\n",
       "Work                 NaN\n",
       "Name: Theme, dtype: float64"
      ]
     },
     "execution_count": 16,
     "metadata": {},
     "output_type": "execute_result"
    }
   ],
   "source": [
    "shared_features.Theme.value_counts()/shared_total_f.Theme.value_counts()"
   ]
  },
  {
   "cell_type": "code",
   "execution_count": 17,
   "id": "8ba2c45d-f215-4252-abfc-b52c708a9227",
   "metadata": {},
   "outputs": [
    {
     "data": {
      "text/plain": [
       "Biomaterial     0.166667\n",
       "Care            0.225000\n",
       "Cognitive       0.038462\n",
       "Demographics    0.517241\n",
       "Emotional       0.493506\n",
       "Physical        0.381443\n",
       "Social          0.542857\n",
       "Work            0.571429\n",
       "Name: Theme, dtype: float64"
      ]
     },
     "execution_count": 17,
     "metadata": {},
     "output_type": "execute_result"
    }
   ],
   "source": [
    "shared_features_nc.Theme.value_counts()/shared_total_f.Theme.value_counts()"
   ]
  },
  {
   "cell_type": "code",
   "execution_count": 74,
   "id": "eafa12b6-c835-4308-9055-63d72e803f99",
   "metadata": {},
   "outputs": [
    {
     "data": {
      "text/plain": [
       "0.25"
      ]
     },
     "execution_count": 74,
     "metadata": {},
     "output_type": "execute_result"
    }
   ],
   "source": [
    "# Cognitive is different since several features were removed:\n",
    "1/(26-22)"
   ]
  },
  {
   "cell_type": "markdown",
   "id": "5005fa2c-311c-4cd8-87a1-919ca6d73fc2",
   "metadata": {},
   "source": [
    "## Baseline Themes:"
   ]
  },
  {
   "cell_type": "code",
   "execution_count": 21,
   "id": "0a905a4b-6f8a-479c-b4c8-50f43eebc6d0",
   "metadata": {},
   "outputs": [],
   "source": [
    "b1 = shared_total_f[shared_total_f.feature_name.isin(['bmcodt_mean', 'balcos10', 'bcesd15', 'bcara06', 'bcva10', 'bdiabe04',\n",
    " 'bhart13', 'brheum11', 'bcardig7', 'bqseff08', 'bmalcnr', 'bmpeakfu', 'bmtmax', 'blphya19', 'bpartst_spouse_oh', 'bage'])]"
   ]
  },
  {
   "cell_type": "code",
   "execution_count": 22,
   "id": "82faab49-09f7-4c5d-b255-e045ea02d938",
   "metadata": {},
   "outputs": [],
   "source": [
    "b2 = shared_total_f[shared_total_f.feature_name.isin(['bincdecl', 'balcos09', 'banxiet6', 'bcance5k', 'bcancer4', 'bcancer8',\n",
    " 'bothsi11', 'brheum07', 'bhealth3', 'bcardig4', 'bwalk01', 'bwalk03', 'bwalk05',\n",
    " 'blo_sum', 'bqfood03', 'bmpeakf1', 'bmpeakfu', 'bmweightch', 'bmbenanx',\n",
    " 'bsatis', 'bhdependent', 'bhtype_other', 'badl6b', 'bsense03', 'blphya08',\n",
    " 'blphya10', 'blphya24', 'bhob', 'bmsmokepm', 'Bmir',\n",
    " 'bpartst_partner_opp_sex_oh', 'sex', 'aeducat', 'b_DM', 'binccat', 'bage'])]"
   ]
  },
  {
   "cell_type": "code",
   "execution_count": 24,
   "id": "fe54c6a4-968a-43d1-b947-209ee12cbd14",
   "metadata": {},
   "outputs": [
    {
     "data": {
      "text/plain": [
       "Physical        10\n",
       "Demographics     2\n",
       "Emotional        2\n",
       "Cognitive        2\n",
       "Name: Theme, dtype: int64"
      ]
     },
     "execution_count": 24,
     "metadata": {},
     "output_type": "execute_result"
    }
   ],
   "source": [
    "b1.Theme.value_counts()"
   ]
  },
  {
   "cell_type": "code",
   "execution_count": 25,
   "id": "1fa9da33-481d-4358-8ff6-c95bb3b56059",
   "metadata": {},
   "outputs": [
    {
     "data": {
      "text/plain": [
       "Physical        21\n",
       "Social           6\n",
       "Demographics     6\n",
       "Emotional        2\n",
       "Care             1\n",
       "Name: Theme, dtype: int64"
      ]
     },
     "execution_count": 25,
     "metadata": {},
     "output_type": "execute_result"
    }
   ],
   "source": [
    "b2.Theme.value_counts()"
   ]
  },
  {
   "cell_type": "code",
   "execution_count": null,
   "id": "dd780831-dee2-46f5-9613-70d84a9854e3",
   "metadata": {},
   "outputs": [],
   "source": []
  }
 ],
 "metadata": {
  "kernelspec": {
   "display_name": "internship3",
   "language": "python",
   "name": "internship3"
  },
  "language_info": {
   "codemirror_mode": {
    "name": "ipython",
    "version": 3
   },
   "file_extension": ".py",
   "mimetype": "text/x-python",
   "name": "python",
   "nbconvert_exporter": "python",
   "pygments_lexer": "ipython3",
   "version": "3.10.6"
  }
 },
 "nbformat": 4,
 "nbformat_minor": 5
}

{
 "cells": [
  {
   "cell_type": "markdown",
   "id": "403f602e",
   "metadata": {},
   "source": [
    "# Comparing Feature Importances from Different Models"
   ]
  },
  {
   "cell_type": "code",
   "execution_count": 1,
   "id": "9681d64c",
   "metadata": {},
   "outputs": [],
   "source": [
    "import pandas as pd\n",
    "import matplotlib.pyplot as plt\n",
    "import seaborn as sns\n",
    "import numpy as np\n",
    "from matplotlib.patches import Patch\n",
    "\n",
    "path = '/home/jln436/Internship_AUMC/'"
   ]
  },
  {
   "cell_type": "code",
   "execution_count": 2,
   "id": "1d2510b0",
   "metadata": {},
   "outputs": [],
   "source": [
    "lgbm_importance = pd.read_csv(path + \"output/Importances/LightGBM_Importances_gain.csv\")\n",
    "rf_importance = pd.read_csv(path + \"output/Importances/RF_Importances.csv\")\n",
    "Lasso_importance = pd.read_csv(path + \"output/Importances/Lasso_Importances.csv\")\n",
    "Ridge_importance = pd.read_csv(path + \"output/Importances/Ridge_Importances.csv\")\n",
    "SVM_importance = pd.read_csv(path + \"output/Importances/SVM_Importances.csv\")"
   ]
  },
  {
   "cell_type": "code",
   "execution_count": 3,
   "id": "a08f899a",
   "metadata": {},
   "outputs": [],
   "source": [
    "# Overall Intersection between top 49 of all methods\n",
    "all_included = set(lgbm_importance.features[0:49]).intersection(set(rf_importance.features[0:49]),\n",
    "                                                set(Lasso_importance.features[0:49]),\n",
    "                                                set(Ridge_importance.features[0:49]),\n",
    "                                                set(SVM_importance.features[0:49]))"
   ]
  },
  {
   "cell_type": "code",
   "execution_count": 4,
   "id": "2ff14d0a",
   "metadata": {},
   "outputs": [
    {
     "data": {
      "text/plain": [
       "{'Bmir',\n",
       " 'bage',\n",
       " 'bcardig4',\n",
       " 'bcraven',\n",
       " 'blphya24',\n",
       " 'bm15wth',\n",
       " 'bmcodt3',\n",
       " 'bmcodt_mean',\n",
       " 'bmmsesc',\n",
       " 'bmpeakfu',\n",
       " 'bmtmax'}"
      ]
     },
     "execution_count": 4,
     "metadata": {},
     "output_type": "execute_result"
    }
   ],
   "source": [
    "all_included"
   ]
  },
  {
   "cell_type": "code",
   "execution_count": null,
   "id": "487a9e37-abd9-45a2-ba97-4147f8fcdb93",
   "metadata": {},
   "outputs": [],
   "source": [
    "# How many features does Lasso Select\n",
    "(Lasso_importance.coefficients != 0).sum()"
   ]
  },
  {
   "cell_type": "code",
   "execution_count": null,
   "id": "a01c1673",
   "metadata": {},
   "outputs": [],
   "source": [
    "# How many shared in the top 49\n",
    "# lgbm and rf\n",
    "lgbm_rf = set(lgbm_importance.features[0:49]).intersection(set(rf_importance.features[0:49]))\n",
    "# lgbm and Lasso\n",
    "lgbm_lasso = set(lgbm_importance.features[0:49]).intersection(set(Lasso_importance.features[0:49]))\n",
    "# lgbm and Ridge\n",
    "lgbm_ridge = set(lgbm_importance.features[0:49]).intersection(set(Ridge_importance.features[0:49]))\n",
    "# lgbm and SVM\n",
    "lgbm_svm = set(lgbm_importance.features[0:49]).intersection(set(SVM_importance.features[0:49]))\n",
    "# rf and Lasso\n",
    "rf_lasso = set(rf_importance.features[0:49]).intersection(set(Lasso_importance.features[0:49]))\n",
    "# rf and Ridge\n",
    "rf_ridge = set(rf_importance.features[0:49]).intersection(set(Ridge_importance.features[0:49]))\n",
    "# rf and SVM\n",
    "rf_svm = set(rf_importance.features[0:49]).intersection(set(SVM_importance.features[0:49]))\n",
    "# Lasso and Ridge\n",
    "lasso_ridge = set(Lasso_importance.features[0:49]).intersection(set(Ridge_importance.features[0:49]))\n",
    "# Lasso and SVM\n",
    "lasso_svm = set(Lasso_importance.features[0:49]).intersection(set(SVM_importance.features[0:49]))\n",
    "# Ridge and SVM\n",
    "ridge_svm = set(Ridge_importance.features[0:49]).intersection(set(SVM_importance.features[0:49]))"
   ]
  },
  {
   "cell_type": "code",
   "execution_count": null,
   "id": "3516482c",
   "metadata": {},
   "outputs": [],
   "source": [
    "print(\"\\033[1mlgbm and rf overlap: \" + str(len(lgbm_rf)) + \"/49\")\n",
    "print(\"lgbm and lasso overlap: \" + str(len(lgbm_lasso)) + \"/49\")\n",
    "print(\"lgbm and ridge overlap: \" + str(len(lgbm_ridge)) + \"/49\")\n",
    "print(\"lgbm and svm overlap: \" + str(len(lgbm_svm)) + \"/49\")\n",
    "print(\"rf and lasso overlap: \" + str(len(rf_lasso)) + \"/49\")\n",
    "print(\"rf and ridge overlap: \" + str(len(rf_ridge)) + \"/49\")\n",
    "print(\"rf and svm overlap: \" + str(len(rf_svm)) + \"/49\")\n",
    "print(\"lasso and ridge overlap: \" + str(len(lasso_ridge)) + \"/49\")\n",
    "print(\"lasso and svm overlap: \" + str(len(lasso_svm)) + \"/49\")\n",
    "print(\"ridge and svm overlap: \" + str(len(ridge_svm)) + \"/49\" + \"\\033[0m\")"
   ]
  },
  {
   "cell_type": "markdown",
   "id": "3893e395",
   "metadata": {},
   "source": [
    "## Non-parametric tests for correlation"
   ]
  },
  {
   "cell_type": "code",
   "execution_count": null,
   "id": "77e50932",
   "metadata": {},
   "outputs": [],
   "source": [
    "# First need to arrange the datasets all in the same order\n",
    "df = lgbm_importance.merge(rf_importance, how = \"left\")\n",
    "df.rename(columns={\"Value\": \"lgbm\", \"importance\": 'rf'}, inplace = True)\n",
    "df = df.merge(Lasso_importance, how = \"left\")\n",
    "df.rename(columns={\"coefficients\": \"lasso\"}, inplace = True)\n",
    "df = df.merge(Ridge_importance, how = \"left\")\n",
    "df.rename(columns={\"coefficients\": \"ridge\"}, inplace = True)\n",
    "df = df.merge(SVM_importance, how = \"left\")\n",
    "df.rename(columns={\"coefficients\": \"svm\"}, inplace = True)"
   ]
  },
  {
   "cell_type": "code",
   "execution_count": null,
   "id": "c1eba39f",
   "metadata": {},
   "outputs": [],
   "source": [
    "# Than compute the test\n",
    "import scipy\n",
    "print(\"Spearman: ---------------------------------------------------\")\n",
    "print(\"Spearman correlation lgbm vs rf: \" + str(round(scipy.stats.spearmanr(df.lgbm, df.rf)[0],3)))\n",
    "print(\"Spearman correlation lgbm vs lasso: \" + str(round(scipy.stats.spearmanr(df.lgbm, df.lasso)[0],3)))\n",
    "print(\"Spearman correlation lgbm vs ridge: \" + str(round(scipy.stats.spearmanr(df.lgbm, df.ridge)[0],3)))\n",
    "print(\"Spearman correlation lgbm vs svm: \" + str(round(scipy.stats.spearmanr(df.lgbm, df.svm)[0],3)))\n",
    "print(\"Spearman correlation rf vs lasso: \" + str(round(scipy.stats.spearmanr(df.rf, df.lasso)[0],3)))\n",
    "print(\"Spearman correlation rf vs ridge: \" + str(round(scipy.stats.spearmanr(df.rf, df.ridge)[0],3)))\n",
    "print(\"Spearman correlation rf vs svm: \" + str(round(scipy.stats.spearmanr(df.rf, df.svm)[0],3)))\n",
    "print(\"Spearman correlation lasso vs ridge: \" + str(round(scipy.stats.spearmanr(df.lasso, df.ridge)[0],3)))\n",
    "print(\"Spearman correlation lasso vs svm: \" + str(round(scipy.stats.spearmanr(df.lasso, df.svm)[0],3)))\n",
    "print(\"Spearman correlation ridge vs svm: \" + str(round(scipy.stats.spearmanr(df.ridge, df.svm)[0],3)))\n",
    "\n",
    "print(\"\\nKendall: ---------------------------------------------------\")\n",
    "print(\"Kendall correlation lgbm vs rf: \" + str(round(scipy.stats.kendalltau(df.lgbm, df.rf)[0],3)))\n",
    "print(\"Kendall correlation lgbm vs lasso: \" + str(round(scipy.stats.kendalltau(df.lgbm, df.lasso)[0],3)))\n",
    "print(\"Kendall correlation lgbm vs ridge: \" + str(round(scipy.stats.kendalltau(df.lgbm, df.ridge)[0],3)))\n",
    "print(\"Kendall correlation lgbm vs svm: \" + str(round(scipy.stats.kendalltau(df.lgbm, df.svm)[0],3)))\n",
    "print(\"Kendall correlation rf vs lasso: \" + str(round(scipy.stats.kendalltau(df.rf, df.lasso)[0],3)))\n",
    "print(\"Kendall correlation rf vs ridge: \" + str(round(scipy.stats.kendalltau(df.rf, df.ridge)[0],3)))\n",
    "print(\"Kendall correlation rf vs svm: \" + str(round(scipy.stats.kendalltau(df.rf, df.svm)[0],3)))\n",
    "print(\"Kendall correlation lasso vs ridge: \" + str(round(scipy.stats.kendalltau(df.lasso, df.ridge)[0],3)))\n",
    "print(\"Kendall correlation lasso vs svm: \" + str(round(scipy.stats.kendalltau(df.lasso, df.svm)[0],3)))\n",
    "print(\"Kendall correlation ridge vs svm: \" + str(round(scipy.stats.kendalltau(df.ridge, df.svm)[0],3)))"
   ]
  },
  {
   "cell_type": "markdown",
   "id": "7cf8a90c",
   "metadata": {},
   "source": [
    "## Visualize Feature Importances to find cutoff"
   ]
  },
  {
   "cell_type": "code",
   "execution_count": null,
   "id": "216cebb2",
   "metadata": {},
   "outputs": [],
   "source": [
    "# For Lasso finding a clear elbow at 38 features\n",
    "plt.figure(figsize=(12, 10))\n",
    "plt.scatter(range(60), abs(Lasso_importance.coefficients[0:60]))\n",
    "plt.title(\"Lasso identifying the elbow\")\n",
    "plt.axhline(y=abs(Lasso_importance.coefficients[49]),color='red')\n",
    "plt.show()"
   ]
  },
  {
   "cell_type": "code",
   "execution_count": null,
   "id": "62412587",
   "metadata": {},
   "outputs": [],
   "source": [
    "# For lgbm finding a clear elbow around 110 featues\n",
    "plt.scatter(range(300), abs(lgbm_importance.Value[0:300]))"
   ]
  },
  {
   "cell_type": "code",
   "execution_count": null,
   "id": "3e2ed680",
   "metadata": {},
   "outputs": [],
   "source": [
    "# For Ridge no clear elbow\n",
    "plt.scatter(range(293), abs(Ridge_importance.coefficients[7:300]))"
   ]
  },
  {
   "cell_type": "code",
   "execution_count": null,
   "id": "188327ad",
   "metadata": {},
   "outputs": [],
   "source": [
    "# For SVM No clear elbow\n",
    "plt.scatter(range(296), abs(SVM_importance.coefficients[4:300]))"
   ]
  },
  {
   "cell_type": "code",
   "execution_count": null,
   "id": "1ddca49d",
   "metadata": {},
   "outputs": [],
   "source": [
    "# For Random Forest elbow around 15-20\n",
    "plt.scatter(range(55), abs(rf_importance.importance[5:60]))"
   ]
  },
  {
   "cell_type": "markdown",
   "id": "0e7e97d3-9a48-4f7b-8a9d-f335e7c01d38",
   "metadata": {},
   "source": [
    "## Make table for shared features"
   ]
  },
  {
   "cell_type": "code",
   "execution_count": null,
   "id": "2e0bec26-d456-4275-9d30-078c75a5bd15",
   "metadata": {},
   "outputs": [],
   "source": [
    "Lasso_importance[0:50]"
   ]
  },
  {
   "cell_type": "code",
   "execution_count": null,
   "id": "819ce93a-391e-46cd-9385-9b1b8ae6900d",
   "metadata": {},
   "outputs": [],
   "source": [
    "tmp_list = list(lgbm_importance.features[0:49]) + list(rf_importance.features[0:49]) + list(Lasso_importance.features[0:49]) + list(Ridge_importance.features[0:49]) + list(SVM_importance.features[0:49])\n",
    "combined_features = list(np.unique(tmp_list))"
   ]
  },
  {
   "cell_type": "code",
   "execution_count": null,
   "id": "0a1d526e-b9f7-42ce-8cc1-5c650719b33d",
   "metadata": {},
   "outputs": [],
   "source": [
    "shared_features = pd.DataFrame(data = combined_features, columns = ['feature_name'])"
   ]
  },
  {
   "cell_type": "code",
   "execution_count": null,
   "id": "06a9810b-4adc-49d4-a8f6-9a8621f495fe",
   "metadata": {},
   "outputs": [],
   "source": [
    "shared_features['lgmb'] = ''\n",
    "shared_features['lgmb'] = np.where(np.isin(shared_features['feature_name'], lgbm_importance['features'][0:49]), 1, 0)\n",
    "shared_features['rf'] = ''\n",
    "shared_features['rf'] = np.where(np.isin(shared_features['feature_name'], rf_importance['features'][0:49]), 1, 0)\n",
    "shared_features['lasso'] = ''\n",
    "shared_features['lasso'] = np.where(np.isin(shared_features['feature_name'], Lasso_importance['features'][0:49]), 1, 0)\n",
    "shared_features['ridge'] = ''\n",
    "shared_features['ridge'] = np.where(np.isin(shared_features['feature_name'], Ridge_importance['features'][0:49]), 1, 0)\n",
    "shared_features['svm'] = ''\n",
    "shared_features['svm'] = np.where(np.isin(shared_features['feature_name'], SVM_importance['features'][0:49]), 1, 0)"
   ]
  },
  {
   "cell_type": "code",
   "execution_count": null,
   "id": "e606d568-af7d-4cd8-a150-f96a692c9fff",
   "metadata": {},
   "outputs": [],
   "source": [
    "shared_features['row_total'] = shared_features['lgmb']+shared_features['rf']+shared_features['lasso']+shared_features['ridge']+shared_features['svm']\n",
    "shared_features = shared_features.sort_values(by=['row_total'], ascending = False)\n",
    "shared_features.drop(columns = 'row_total', inplace = True)\n",
    "# Plot heatmap\n",
    "fig, ax = plt.subplots(figsize=(10,40))\n",
    "ax.set(xlabel=\"\", ylabel=\"\")\n",
    "ax.xaxis.tick_top()\n",
    "ax = sns.heatmap(shared_features[['lgmb','rf','lasso','ridge','svm']], \n",
    "            yticklabels = shared_features.feature_name, cbar = True, cmap = sns.color_palette(\"flare\", as_cmap=True),  cbar_kws={\"shrink\": 0.2})\n",
    "plt.savefig('shared_features_heatmap.png')"
   ]
  },
  {
   "cell_type": "code",
   "execution_count": null,
   "id": "fe69274f-a337-4ba6-b61d-3002d3225977",
   "metadata": {},
   "outputs": [],
   "source": [
    "# Save feature importance\n",
    "shared_features.to_csv(path + 'output/Importances/shared_importances.csv', index = False)"
   ]
  },
  {
   "cell_type": "markdown",
   "id": "b04cef23-bf5e-4c8a-a243-eac389f46ee1",
   "metadata": {},
   "source": [
    "## Read back in importances with themes to make new heatmaps"
   ]
  },
  {
   "cell_type": "code",
   "execution_count": 4,
   "id": "c6a1675d-1e06-42a1-83cb-88f300fa3714",
   "metadata": {},
   "outputs": [],
   "source": [
    "# Read in feature importance\n",
    "shared_features_t = pd.read_csv(path + 'output/Importances/shared_importances_themes.csv')"
   ]
  },
  {
   "cell_type": "code",
   "execution_count": 5,
   "id": "eeb8fd09-f4a7-4f65-a7bd-63a42e1e1620",
   "metadata": {},
   "outputs": [
    {
     "data": {
      "text/plain": [
       "Physical        66\n",
       "Cognitive       17\n",
       "Social          15\n",
       "Emotional       14\n",
       "Demographics     9\n",
       "Care             4\n",
       "Biomaterial      1\n",
       "Name: Theme, dtype: int64"
      ]
     },
     "execution_count": 5,
     "metadata": {},
     "output_type": "execute_result"
    }
   ],
   "source": [
    "shared_features_t.Theme.value_counts()"
   ]
  },
  {
   "cell_type": "code",
   "execution_count": 6,
   "id": "e6aad4e6-f801-44ae-bb63-2b879d579e94",
   "metadata": {},
   "outputs": [],
   "source": [
    "lgbm_importance.reset_index(inplace=True)\n",
    "lgbm_importance.rename(columns = {'index':'lgbm_rank', 'features': 'feature_name'}, inplace = True)\n",
    "rf_importance.reset_index(inplace=True)\n",
    "rf_importance.rename(columns = {'index':'rf_rank', 'features': 'feature_name'}, inplace = True)\n",
    "Lasso_importance.reset_index(inplace=True)\n",
    "Lasso_importance.rename(columns = {'index':'lasso_rank', 'features': 'feature_name'}, inplace = True)\n",
    "Ridge_importance.reset_index(inplace=True)\n",
    "Ridge_importance.rename(columns = {'index':'ridge_rank', 'features': 'feature_name'}, inplace = True)\n",
    "SVM_importance.reset_index(inplace=True)\n",
    "SVM_importance.rename(columns = {'index':'svm_rank', 'features': 'feature_name'}, inplace = True)"
   ]
  },
  {
   "cell_type": "code",
   "execution_count": 7,
   "id": "dfb021fc-282a-44fa-a94a-d6590377ff9a",
   "metadata": {},
   "outputs": [
    {
     "data": {
      "text/html": [
       "<div>\n",
       "<style scoped>\n",
       "    .dataframe tbody tr th:only-of-type {\n",
       "        vertical-align: middle;\n",
       "    }\n",
       "\n",
       "    .dataframe tbody tr th {\n",
       "        vertical-align: top;\n",
       "    }\n",
       "\n",
       "    .dataframe thead th {\n",
       "        text-align: right;\n",
       "    }\n",
       "</style>\n",
       "<table border=\"1\" class=\"dataframe\">\n",
       "  <thead>\n",
       "    <tr style=\"text-align: right;\">\n",
       "      <th></th>\n",
       "      <th>lasso_rank</th>\n",
       "      <th>feature_name</th>\n",
       "      <th>coefficients</th>\n",
       "    </tr>\n",
       "  </thead>\n",
       "  <tbody>\n",
       "    <tr>\n",
       "      <th>0</th>\n",
       "      <td>0</td>\n",
       "      <td>bmcodt_mean</td>\n",
       "      <td>3.708562</td>\n",
       "    </tr>\n",
       "    <tr>\n",
       "      <th>1</th>\n",
       "      <td>1</td>\n",
       "      <td>bmcodt3</td>\n",
       "      <td>1.458736</td>\n",
       "    </tr>\n",
       "    <tr>\n",
       "      <th>2</th>\n",
       "      <td>2</td>\n",
       "      <td>bage</td>\n",
       "      <td>-0.423593</td>\n",
       "    </tr>\n",
       "    <tr>\n",
       "      <th>3</th>\n",
       "      <td>3</td>\n",
       "      <td>bmpeakfu</td>\n",
       "      <td>-0.339854</td>\n",
       "    </tr>\n",
       "    <tr>\n",
       "      <th>4</th>\n",
       "      <td>4</td>\n",
       "      <td>bcraven</td>\n",
       "      <td>0.338021</td>\n",
       "    </tr>\n",
       "    <tr>\n",
       "      <th>...</th>\n",
       "      <td>...</td>\n",
       "      <td>...</td>\n",
       "      <td>...</td>\n",
       "    </tr>\n",
       "    <tr>\n",
       "      <th>541</th>\n",
       "      <td>541</td>\n",
       "      <td>brheum_01_and_02</td>\n",
       "      <td>0.000000</td>\n",
       "    </tr>\n",
       "    <tr>\n",
       "      <th>542</th>\n",
       "      <td>542</td>\n",
       "      <td>brheum9h</td>\n",
       "      <td>-0.000000</td>\n",
       "    </tr>\n",
       "    <tr>\n",
       "      <th>543</th>\n",
       "      <td>543</td>\n",
       "      <td>brheum9g</td>\n",
       "      <td>-0.000000</td>\n",
       "    </tr>\n",
       "    <tr>\n",
       "      <th>544</th>\n",
       "      <td>544</td>\n",
       "      <td>brheum8i</td>\n",
       "      <td>0.000000</td>\n",
       "    </tr>\n",
       "    <tr>\n",
       "      <th>545</th>\n",
       "      <td>545</td>\n",
       "      <td>bqseff05</td>\n",
       "      <td>-0.000000</td>\n",
       "    </tr>\n",
       "  </tbody>\n",
       "</table>\n",
       "<p>546 rows × 3 columns</p>\n",
       "</div>"
      ],
      "text/plain": [
       "     lasso_rank      feature_name  coefficients\n",
       "0             0       bmcodt_mean      3.708562\n",
       "1             1           bmcodt3      1.458736\n",
       "2             2              bage     -0.423593\n",
       "3             3          bmpeakfu     -0.339854\n",
       "4             4           bcraven      0.338021\n",
       "..          ...               ...           ...\n",
       "541         541  brheum_01_and_02      0.000000\n",
       "542         542          brheum9h     -0.000000\n",
       "543         543          brheum9g     -0.000000\n",
       "544         544          brheum8i      0.000000\n",
       "545         545          bqseff05     -0.000000\n",
       "\n",
       "[546 rows x 3 columns]"
      ]
     },
     "execution_count": 7,
     "metadata": {},
     "output_type": "execute_result"
    }
   ],
   "source": [
    "Lasso_importance"
   ]
  },
  {
   "cell_type": "code",
   "execution_count": 8,
   "id": "2534d1e8-0cdc-4a61-93de-d3dc1d1cd0c5",
   "metadata": {},
   "outputs": [],
   "source": [
    "shared_features_f = shared_features_t.merge(lgbm_importance)\n",
    "shared_features_f = shared_features_f.merge(rf_importance)\n",
    "shared_features_f = shared_features_f.merge(Lasso_importance)\n",
    "shared_features_f.drop(columns = ['Value','importance','coefficients'], inplace = True)\n",
    "shared_features_f = shared_features_f.merge(Ridge_importance)\n",
    "shared_features_f.drop(columns = ['coefficients'], inplace = True)\n",
    "shared_features_f = shared_features_f.merge(SVM_importance)\n",
    "shared_features_f.drop(columns = ['coefficients'], inplace = True)"
   ]
  },
  {
   "cell_type": "code",
   "execution_count": 9,
   "id": "6f1e08e9-8341-4977-b383-8d2e1b209d04",
   "metadata": {},
   "outputs": [],
   "source": [
    "shared_features_f.sort_values('Theme', inplace = True)"
   ]
  },
  {
   "cell_type": "code",
   "execution_count": 10,
   "id": "d5d043da-9b12-41a7-a9a1-80b28e087b8b",
   "metadata": {},
   "outputs": [],
   "source": [
    "# Set the colors\n",
    "lut = dict(zip(shared_features_f.Theme.unique(), sns.color_palette(\"Paired\")))\n",
    "row_colors = shared_features_f.Theme.map(lut)\n"
   ]
  },
  {
   "cell_type": "code",
   "execution_count": 11,
   "id": "d694014a-db8b-4df6-a49f-1a0bf1cbd17e",
   "metadata": {},
   "outputs": [
    {
     "data": {
      "text/html": [
       "<div>\n",
       "<style scoped>\n",
       "    .dataframe tbody tr th:only-of-type {\n",
       "        vertical-align: middle;\n",
       "    }\n",
       "\n",
       "    .dataframe tbody tr th {\n",
       "        vertical-align: top;\n",
       "    }\n",
       "\n",
       "    .dataframe thead th {\n",
       "        text-align: right;\n",
       "    }\n",
       "</style>\n",
       "<table border=\"1\" class=\"dataframe\">\n",
       "  <thead>\n",
       "    <tr style=\"text-align: right;\">\n",
       "      <th></th>\n",
       "      <th>feature_name</th>\n",
       "      <th>lgmb</th>\n",
       "      <th>rf</th>\n",
       "      <th>lasso</th>\n",
       "      <th>ridge</th>\n",
       "      <th>svm</th>\n",
       "      <th>file</th>\n",
       "      <th>Theme</th>\n",
       "      <th>lgbm_rank</th>\n",
       "      <th>rf_rank</th>\n",
       "      <th>lasso_rank</th>\n",
       "      <th>ridge_rank</th>\n",
       "      <th>svm_rank</th>\n",
       "    </tr>\n",
       "  </thead>\n",
       "  <tbody>\n",
       "    <tr>\n",
       "      <th>120</th>\n",
       "      <td>bmapo_e22</td>\n",
       "      <td>0</td>\n",
       "      <td>0</td>\n",
       "      <td>0</td>\n",
       "      <td>1</td>\n",
       "      <td>1</td>\n",
       "      <td>870</td>\n",
       "      <td>Biomaterial</td>\n",
       "      <td>479</td>\n",
       "      <td>475</td>\n",
       "      <td>155</td>\n",
       "      <td>44</td>\n",
       "      <td>23</td>\n",
       "    </tr>\n",
       "    <tr>\n",
       "      <th>49</th>\n",
       "      <td>blst1c01</td>\n",
       "      <td>0</td>\n",
       "      <td>0</td>\n",
       "      <td>0</td>\n",
       "      <td>0</td>\n",
       "      <td>1</td>\n",
       "      <td>44</td>\n",
       "      <td>Care</td>\n",
       "      <td>200</td>\n",
       "      <td>171</td>\n",
       "      <td>225</td>\n",
       "      <td>318</td>\n",
       "      <td>42</td>\n",
       "    </tr>\n",
       "    <tr>\n",
       "      <th>104</th>\n",
       "      <td>bmspec17</td>\n",
       "      <td>0</td>\n",
       "      <td>0</td>\n",
       "      <td>0</td>\n",
       "      <td>1</td>\n",
       "      <td>0</td>\n",
       "      <td>245</td>\n",
       "      <td>Care</td>\n",
       "      <td>433</td>\n",
       "      <td>261</td>\n",
       "      <td>213</td>\n",
       "      <td>31</td>\n",
       "      <td>109</td>\n",
       "    </tr>\n",
       "    <tr>\n",
       "      <th>48</th>\n",
       "      <td>blst2c07</td>\n",
       "      <td>0</td>\n",
       "      <td>0</td>\n",
       "      <td>1</td>\n",
       "      <td>0</td>\n",
       "      <td>0</td>\n",
       "      <td>44</td>\n",
       "      <td>Care</td>\n",
       "      <td>467</td>\n",
       "      <td>278</td>\n",
       "      <td>29</td>\n",
       "      <td>391</td>\n",
       "      <td>365</td>\n",
       "    </tr>\n",
       "    <tr>\n",
       "      <th>47</th>\n",
       "      <td>blst2c08</td>\n",
       "      <td>0</td>\n",
       "      <td>0</td>\n",
       "      <td>1</td>\n",
       "      <td>0</td>\n",
       "      <td>0</td>\n",
       "      <td>44</td>\n",
       "      <td>Care</td>\n",
       "      <td>440</td>\n",
       "      <td>325</td>\n",
       "      <td>37</td>\n",
       "      <td>524</td>\n",
       "      <td>390</td>\n",
       "    </tr>\n",
       "    <tr>\n",
       "      <th>...</th>\n",
       "      <td>...</td>\n",
       "      <td>...</td>\n",
       "      <td>...</td>\n",
       "      <td>...</td>\n",
       "      <td>...</td>\n",
       "      <td>...</td>\n",
       "      <td>...</td>\n",
       "      <td>...</td>\n",
       "      <td>...</td>\n",
       "      <td>...</td>\n",
       "      <td>...</td>\n",
       "      <td>...</td>\n",
       "      <td>...</td>\n",
       "    </tr>\n",
       "    <tr>\n",
       "      <th>3</th>\n",
       "      <td>byneigh</td>\n",
       "      <td>1</td>\n",
       "      <td>1</td>\n",
       "      <td>0</td>\n",
       "      <td>0</td>\n",
       "      <td>0</td>\n",
       "      <td>15</td>\n",
       "      <td>Social</td>\n",
       "      <td>25</td>\n",
       "      <td>20</td>\n",
       "      <td>367</td>\n",
       "      <td>341</td>\n",
       "      <td>154</td>\n",
       "    </tr>\n",
       "    <tr>\n",
       "      <th>2</th>\n",
       "      <td>bmovefut</td>\n",
       "      <td>0</td>\n",
       "      <td>0</td>\n",
       "      <td>1</td>\n",
       "      <td>1</td>\n",
       "      <td>0</td>\n",
       "      <td>15</td>\n",
       "      <td>Social</td>\n",
       "      <td>265</td>\n",
       "      <td>214</td>\n",
       "      <td>32</td>\n",
       "      <td>28</td>\n",
       "      <td>60</td>\n",
       "    </tr>\n",
       "    <tr>\n",
       "      <th>1</th>\n",
       "      <td>bnroomsc</td>\n",
       "      <td>0</td>\n",
       "      <td>1</td>\n",
       "      <td>0</td>\n",
       "      <td>0</td>\n",
       "      <td>0</td>\n",
       "      <td>14</td>\n",
       "      <td>Social</td>\n",
       "      <td>65</td>\n",
       "      <td>37</td>\n",
       "      <td>90</td>\n",
       "      <td>118</td>\n",
       "      <td>64</td>\n",
       "    </tr>\n",
       "    <tr>\n",
       "      <th>109</th>\n",
       "      <td>Beg</td>\n",
       "      <td>1</td>\n",
       "      <td>0</td>\n",
       "      <td>0</td>\n",
       "      <td>0</td>\n",
       "      <td>0</td>\n",
       "      <td>247</td>\n",
       "      <td>Social</td>\n",
       "      <td>39</td>\n",
       "      <td>55</td>\n",
       "      <td>202</td>\n",
       "      <td>419</td>\n",
       "      <td>354</td>\n",
       "    </tr>\n",
       "    <tr>\n",
       "      <th>62</th>\n",
       "      <td>bhob</td>\n",
       "      <td>0</td>\n",
       "      <td>0</td>\n",
       "      <td>0</td>\n",
       "      <td>1</td>\n",
       "      <td>0</td>\n",
       "      <td>70</td>\n",
       "      <td>Social</td>\n",
       "      <td>87</td>\n",
       "      <td>116</td>\n",
       "      <td>174</td>\n",
       "      <td>27</td>\n",
       "      <td>80</td>\n",
       "    </tr>\n",
       "  </tbody>\n",
       "</table>\n",
       "<p>126 rows × 13 columns</p>\n",
       "</div>"
      ],
      "text/plain": [
       "    feature_name  lgmb  rf  lasso  ridge  svm file        Theme  lgbm_rank  \\\n",
       "120    bmapo_e22     0   0      0      1    1  870  Biomaterial        479   \n",
       "49      blst1c01     0   0      0      0    1   44         Care        200   \n",
       "104     bmspec17     0   0      0      1    0  245         Care        433   \n",
       "48      blst2c07     0   0      1      0    0   44         Care        467   \n",
       "47      blst2c08     0   0      1      0    0   44         Care        440   \n",
       "..           ...   ...  ..    ...    ...  ...  ...          ...        ...   \n",
       "3        byneigh     1   1      0      0    0   15       Social         25   \n",
       "2       bmovefut     0   0      1      1    0   15       Social        265   \n",
       "1       bnroomsc     0   1      0      0    0   14       Social         65   \n",
       "109          Beg     1   0      0      0    0  247       Social         39   \n",
       "62          bhob     0   0      0      1    0   70       Social         87   \n",
       "\n",
       "     rf_rank  lasso_rank  ridge_rank  svm_rank  \n",
       "120      475         155          44        23  \n",
       "49       171         225         318        42  \n",
       "104      261         213          31       109  \n",
       "48       278          29         391       365  \n",
       "47       325          37         524       390  \n",
       "..       ...         ...         ...       ...  \n",
       "3         20         367         341       154  \n",
       "2        214          32          28        60  \n",
       "1         37          90         118        64  \n",
       "109       55         202         419       354  \n",
       "62       116         174          27        80  \n",
       "\n",
       "[126 rows x 13 columns]"
      ]
     },
     "execution_count": 11,
     "metadata": {},
     "output_type": "execute_result"
    }
   ],
   "source": [
    "shared_features_f"
   ]
  },
  {
   "cell_type": "code",
   "execution_count": 12,
   "id": "f1303a0e-4abd-451c-a589-b0f2c63ecdd2",
   "metadata": {},
   "outputs": [
    {
     "data": {
      "image/png": "[encoded data removed]",
      "text/plain": [
       "<Figure size 720x1584 with 5 Axes>"
      ]
     },
     "metadata": {
      "needs_background": "light"
     },
     "output_type": "display_data"
    }
   ],
   "source": [
    "sns.set(font_scale=1.1)\n",
    "g = sns.clustermap(shared_features_f[['lgbm_rank','rf_rank','lasso_rank','ridge_rank','svm_rank']], \n",
    "                   # Turn off the clustering\n",
    "                   row_cluster=False, col_cluster=False,\n",
    "                   figsize = (10,22),\n",
    "                   cbar_pos=(.02, .6, .08, .2),\n",
    "                   yticklabels = shared_features_f.feature_name,\n",
    "                   xticklabels = ['LGBM','RF','LASSO','RIDGE','SVM'],\n",
    "                   cmap = sns.color_palette(\"rocket\", as_cmap=True),\n",
    "                   dendrogram_ratio=(0.3, 0.05),\n",
    "                   row_colors = row_colors)\n",
    "\n",
    "for label in shared_features_f.Theme.unique():\n",
    "    g.ax_row_dendrogram.bar(0, 0, color=lut[label],\n",
    "                            label=label, linewidth=1)\n",
    "g.ax_row_dendrogram.legend(loc=\"upper center\", ncol=1)\n",
    "g.fig.suptitle('Feature Importances Heatmap \\n Sorted by LASA Theme')\n",
    "g.savefig('shared_features_heatmap_themes.png')\n"
   ]
  },
  {
   "cell_type": "code",
   "execution_count": null,
   "id": "193c1cc4-4e25-40c3-9cd0-eec1708b0bfb",
   "metadata": {},
   "outputs": [],
   "source": []
  }
 ],
 "metadata": {
  "kernelspec": {
   "display_name": "internship3",
   "language": "python",
   "name": "internship3"
  },
  "language_info": {
   "codemirror_mode": {
    "name": "ipython",
    "version": 3
   },
   "file_extension": ".py",
   "mimetype": "text/x-python",
   "name": "python",
   "nbconvert_exporter": "python",
   "pygments_lexer": "ipython3",
   "version": "3.10.6"
  }
 },
 "nbformat": 4,
 "nbformat_minor": 5
}
